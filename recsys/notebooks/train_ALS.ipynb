{
 "cells": [
  {
   "cell_type": "code",
   "execution_count": 1,
   "metadata": {
    "collapsed": true
   },
   "outputs": [],
   "source": [
    "import json\n",
    "\n",
    "from pyspark.sql import SparkSession, Row\n",
    "\n",
    "from pyspark.ml.evaluation import RegressionEvaluator\n",
    "from pyspark.ml.recommendation import ALS, ALSModel\n",
    "from pyspark.ml.tuning import ParamGridBuilder, CrossValidator"
   ]
  },
  {
   "cell_type": "code",
   "execution_count": 2,
   "metadata": {},
   "outputs": [
    {
     "name": "stdout",
     "output_type": "stream",
     "text": [
      "root\n",
      " |-- experiments: struct (nullable = true)\n",
      " |    |-- AA: string (nullable = true)\n",
      " |    |-- PERSONALIZED: string (nullable = true)\n",
      " |    |-- RECOMMENDERS: string (nullable = true)\n",
      " |-- latency: double (nullable = true)\n",
      " |-- message: string (nullable = true)\n",
      " |-- recommendation: long (nullable = true)\n",
      " |-- time: double (nullable = true)\n",
      " |-- timestamp: long (nullable = true)\n",
      " |-- track: long (nullable = true)\n",
      " |-- user: long (nullable = true)\n",
      "\n"
     ]
    },
    {
     "data": {
      "text/plain": [
       "9243132"
      ]
     },
     "execution_count": 2,
     "metadata": {},
     "output_type": "execute_result"
    }
   ],
   "source": [
    "spark = SparkSession.builder.appName(\"dusiak\").getOrCreate()\n",
    "data = spark.read.json(\"/user/mob2021032/joined_dataset\")\n",
    "data.printSchema()\n",
    "data.count()"
   ]
  },
  {
   "cell_type": "code",
   "execution_count": 3,
   "metadata": {
    "collapsed": true
   },
   "outputs": [],
   "source": [
    "(train, test) = data.randomSplit([0.85, 0.15])"
   ]
  },
  {
   "cell_type": "code",
   "execution_count": 4,
   "metadata": {
    "collapsed": true
   },
   "outputs": [],
   "source": [
    "als = ALS(\n",
    "         userCol=\"user\", \n",
    "         itemCol=\"track\",\n",
    "         ratingCol=\"time\", \n",
    "         nonnegative = True, \n",
    "         implicitPrefs = False,\n",
    "         coldStartStrategy=\"drop\"\n",
    ")\n",
    "\n",
    "param_grid = ParamGridBuilder().addGrid(als.rank, [50, 100]).addGrid(als.regParam, [0.05, 0.1]).build()\n",
    "evaluator = RegressionEvaluator(metricName=\"rmse\", labelCol=\"time\", predictionCol=\"prediction\")\n",
    "cv = CrossValidator(estimator=als, estimatorParamMaps=param_grid, evaluator=evaluator, numFolds=4)"
   ]
  },
  {
   "cell_type": "code",
   "execution_count": 5,
   "metadata": {
    "collapsed": true
   },
   "outputs": [],
   "source": [
    "# train\n",
    "model = cv.fit(train)\n",
    "best_model = model.bestModel"
   ]
  },
  {
   "cell_type": "code",
   "execution_count": 6,
   "metadata": {},
   "outputs": [
    {
     "name": "stdout",
     "output_type": "stream",
     "text": [
      "Best model params\n",
      "Rank: 100\n",
      "MaxIter: 10\n",
      "RegParam: 0.05\n"
     ]
    }
   ],
   "source": [
    "print(\"Best model params\")\n",
    "print(\"Rank:\", best_model._java_obj.parent().getRank())\n",
    "print(\"MaxIter:\", best_model._java_obj.parent().getMaxIter())\n",
    "print(\"RegParam:\", best_model._java_obj.parent().getRegParam())"
   ]
  },
  {
   "cell_type": "code",
   "execution_count": 7,
   "metadata": {},
   "outputs": [
    {
     "name": "stdout",
     "output_type": "stream",
     "text": [
      "0.2961529860005571\n"
     ]
    }
   ],
   "source": [
    "# calc RMSE on test\n",
    "test_preds = best_model.transform(test)\n",
    "RMSE = evaluator.evaluate(test_preds)\n",
    "print(RMSE)  # 0.2961529860005571"
   ]
  },
  {
   "cell_type": "code",
   "execution_count": 8,
   "metadata": {
    "collapsed": true
   },
   "outputs": [],
   "source": [
    "# save best model\n",
    "best_model.save(\"best_models/model_1.3\")\n",
    "# best_model = ALSModel.load(\"best_models/model_1.3\")"
   ]
  },
  {
   "cell_type": "code",
   "execution_count": 9,
   "metadata": {
    "collapsed": true
   },
   "outputs": [],
   "source": [
    "# generate recommendations\n",
    "res = best_model.recommendForAllUsers(30).select(\"user\", \"recommendations.track\").collect()"
   ]
  },
  {
   "cell_type": "code",
   "execution_count": 10,
   "metadata": {
    "collapsed": true
   },
   "outputs": [],
   "source": [
    "# prepare for json\n",
    "users = {}\n",
    "for r in res:\n",
    "    users.setdefault(r.user, []).extend(r.track)"
   ]
  },
  {
   "cell_type": "code",
   "execution_count": 11,
   "metadata": {
    "collapsed": true
   },
   "outputs": [],
   "source": [
    "# save to json\n",
    "with open('/home/mobod2021/mob2021032/users_recs.json', 'w') as f:\n",
    "    json.dump(users, fp=f, indent=4)"
   ]
  }
 ],
 "metadata": {
  "kernelspec": {
   "display_name": "Python 3",
   "language": "python",
   "name": "python3"
  },
  "language_info": {
   "codemirror_mode": {
    "name": "ipython",
    "version": 3
   },
   "file_extension": ".py",
   "mimetype": "text/x-python",
   "name": "python",
   "nbconvert_exporter": "python",
   "pygments_lexer": "ipython3",
   "version": "3.4.3"
  }
 },
 "nbformat": 4,
 "nbformat_minor": 2
}
